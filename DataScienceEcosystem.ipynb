{
 "cells": [
  {
   "cell_type": "markdown",
   "id": "46262453-f0e7-491c-8cc1-c93a7681c3ef",
   "metadata": {},
   "source": [
    "# Data Science Tools and Ecosystem"
   ]
  },
  {
   "cell_type": "markdown",
   "id": "3df27ef3-774d-4c98-8a6d-877bf85ac047",
   "metadata": {},
   "source": [
    "### In this notebook, Data Science Tools and Ecosystem are summarized."
   ]
  },
  {
   "cell_type": "markdown",
   "id": "cb3cb6ea-5568-4240-b7b1-96a8b76f0a5a",
   "metadata": {},
   "source": [
    "### Some of the popular languages that Data Scientists use are:\n",
    "1. Python\n",
    "2. R\n",
    "3. SQL"
   ]
  },
  {
   "cell_type": "markdown",
   "id": "4a0033c7-cc1c-4627-8a9f-32f766221af0",
   "metadata": {},
   "source": [
    "### Some of the commonly used libraries used by Data Scientists include:\n",
    " 1. Numpy\n",
    " 2. Pandas\n",
    " 3. Matplotlib"
   ]
  },
  {
   "cell_type": "markdown",
   "id": "35bcaa00-9f71-49d3-895b-afecddb15ac7",
   "metadata": {},
   "source": [
    "| Data Science Tools |\n",
    "| ---------- |\n",
    "| Python |\n",
    "| R |\n",
    "|Scala |"
   ]
  },
  {
   "cell_type": "code",
   "execution_count": 3,
   "id": "707ca50d-efd7-49eb-bc14-4894522b9b21",
   "metadata": {},
   "outputs": [
    {
     "name": "stdout",
     "output_type": "stream",
     "text": [
      "This a simple arithmetic expression to mutiply then add integers\n"
     ]
    },
    {
     "data": {
      "text/plain": [
       "17"
      ]
     },
     "execution_count": 3,
     "metadata": {},
     "output_type": "execute_result"
    }
   ],
   "source": [
    "print ('This a simple arithmetic expression to mutiply then add integers')\n",
    "(3*4)+5"
   ]
  },
  {
   "cell_type": "code",
   "execution_count": 4,
   "id": "2d13998a-952a-4dc2-8d4e-90a84bc91f89",
   "metadata": {},
   "outputs": [
    {
     "name": "stdout",
     "output_type": "stream",
     "text": [
      "This will convert 200 minutes to hours by diving by 60\n"
     ]
    },
    {
     "data": {
      "text/plain": [
       "3.3333333333333335"
      ]
     },
     "execution_count": 4,
     "metadata": {},
     "output_type": "execute_result"
    }
   ],
   "source": [
    "print ('This will convert 200 minutes to hours by diving by 60')\n",
    "200/60"
   ]
  },
  {
   "cell_type": "markdown",
   "id": "9e32eea9-8175-47d6-a172-cc9ff1e63d47",
   "metadata": {},
   "source": [
    "## Author\n",
    "Keamogetsoe Mphuthi"
   ]
  },
  {
   "cell_type": "code",
   "execution_count": null,
   "id": "685be23e-4af6-4986-89a8-7cfc7b09b436",
   "metadata": {},
   "outputs": [],
   "source": []
  }
 ],
 "metadata": {
  "kernelspec": {
   "display_name": "Python 3 (ipykernel)",
   "language": "python",
   "name": "python3"
  },
  "language_info": {
   "codemirror_mode": {
    "name": "ipython",
    "version": 3
   },
   "file_extension": ".py",
   "mimetype": "text/x-python",
   "name": "python",
   "nbconvert_exporter": "python",
   "pygments_lexer": "ipython3",
   "version": "3.11.7"
  }
 },
 "nbformat": 4,
 "nbformat_minor": 5
}
